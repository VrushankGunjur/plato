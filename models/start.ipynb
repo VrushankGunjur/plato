{
 "cells": [
  {
   "cell_type": "code",
   "execution_count": null,
   "metadata": {},
   "outputs": [],
   "source": [
    "import whisper"
   ]
  },
  {
   "cell_type": "code",
   "execution_count": null,
   "metadata": {},
   "outputs": [],
   "source": [
    "model = whisper.load_model(\"tiny\")"
   ]
  },
  {
   "cell_type": "code",
   "execution_count": null,
   "metadata": {},
   "outputs": [],
   "source": [
    "audio = whisper.load_audio(\"audio.mp3\")\n",
    "audio = whisper.pad_or_trim(audio)"
   ]
  },
  {
   "cell_type": "code",
   "execution_count": null,
   "metadata": {},
   "outputs": [],
   "source": [
    "import pyaudio\n",
    "import threading\n",
    "import numpy as np\n",
    "import time\n",
    "import pyttsx3\n",
    "\n",
    "# Define the audio settings\n",
    "CHUNK_SIZE = 1024\n",
    "FORMAT = pyaudio.paInt16\n",
    "CHANNELS = 1\n",
    "RATE = 44100\n",
    "\n",
    "# Define a circular buffer for storing audio data\n",
    "buffer = np.zeros(CHUNK_SIZE * 10)\n",
    "\n",
    "# Create a Text-to-Speech engine\n",
    "engine = pyttsx3.init()\n",
    "\n",
    "# Define a flag variable to stop the threads\n",
    "stop_flag = threading.Event()\n",
    "\n",
    "# Define a function to read audio data from the microphone\n",
    "def read_microphone():\n",
    "    global buffer\n",
    "    p = pyaudio.PyAudio()\n",
    "    stream = p.open(format=FORMAT,\n",
    "                    channels=CHANNELS,\n",
    "                    rate=RATE,\n",
    "                    input=True,\n",
    "                    frames_per_buffer=CHUNK_SIZE)\n",
    "    while not stop_flag.is_set():\n",
    "        data = stream.read(CHUNK_SIZE)\n",
    "        buffer = np.roll(buffer, -CHUNK_SIZE)\n",
    "        buffer[-CHUNK_SIZE:] = np.frombuffer(data, dtype=np.int16)\n",
    "\n",
    "# Define a function to process audio data in real-time and speak back the result\n",
    "def process_audio():\n",
    "    global buffer\n",
    "    while not stop_flag.is_set():\n",
    "        print('running')\n",
    "\n",
    "        # Get the latest audio data from the buffer\n",
    "        data = buffer[-CHUNK_SIZE:]\n",
    "        \n",
    "        # Process the audio data here\n",
    "        # ...\n",
    "\n",
    "        # Speak the result\n",
    "        result = \"Hello, world!\"  # Replace with your own result\n",
    "        engine.say(result)\n",
    "        engine.say(data)\n",
    "        engine.runAndWait()\n",
    "        \n",
    "        # Sleep for a short amount of time to reduce CPU usage\n",
    "        time.sleep(0.001)\n",
    "\n",
    "# Define a function to stop the threads\n",
    "def stop_threads():\n",
    "    stop_flag.set()\n",
    "    mic_thread.join()\n",
    "    process_thread.join()\n",
    "\n",
    "# Start the microphone thread and the processing thread\n",
    "mic_thread = threading.Thread(target=read_microphone)\n",
    "mic_thread.start()\n",
    "\n",
    "process_thread = threading.Thread(target=process_audio)\n",
    "process_thread.start()\n",
    "\n",
    "# Wait for input to stop the threads\n",
    "input(\"Press Enter to stop the program...\")\n",
    "\n",
    "# Stop the threads\n",
    "stop_threads()\n"
   ]
  },
  {
   "cell_type": "code",
   "execution_count": null,
   "metadata": {},
   "outputs": [],
   "source": [
    "stop_threads()"
   ]
  },
  {
   "cell_type": "code",
   "execution_count": null,
   "metadata": {},
   "outputs": [],
   "source": []
  }
 ],
 "metadata": {
  "kernelspec": {
   "display_name": "treehacks",
   "language": "python",
   "name": "python3"
  },
  "language_info": {
   "codemirror_mode": {
    "name": "ipython",
    "version": 3
   },
   "file_extension": ".py",
   "mimetype": "text/x-python",
   "name": "python",
   "nbconvert_exporter": "python",
   "pygments_lexer": "ipython3",
   "version": "3.9.16"
  },
  "orig_nbformat": 4,
  "vscode": {
   "interpreter": {
    "hash": "54b438c93a04fac52b61aa9b1a1452c85bc92b5b728e333bac973eb890debee5"
   }
  }
 },
 "nbformat": 4,
 "nbformat_minor": 2
}
