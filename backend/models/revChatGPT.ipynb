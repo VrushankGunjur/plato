{
 "cells": [
  {
   "cell_type": "code",
   "execution_count": 1,
   "metadata": {},
   "outputs": [],
   "source": [
    "from revChatGPT.V1 import Chatbot"
   ]
  },
  {
   "cell_type": "code",
   "execution_count": 9,
   "metadata": {},
   "outputs": [],
   "source": [
    "chatbot = Chatbot(config={\n",
    "  \"email\": \"akshgarg@gmail.com\",\n",
    "  \"password\": \"treehacks\"\n",
    "})"
   ]
  },
  {
   "cell_type": "code",
   "execution_count": 12,
   "metadata": {},
   "outputs": [
    {
     "name": "stdout",
     "output_type": "stream",
     "text": [
      "Chatbot: \n",
      "I'm sorry to hear that you're feeling stressed about your assignment and that you're struggling with PyAudio installation. It's understandable to feel frustrated when faced with a challenging task or when dealing with technical issues. It's important to remember that it's okay to ask for help when you need it, and there are many resources available to you, such as online communities, documentation, and tutoring services.\n",
      "\n",
      "In addition to the previous advice I offered, here are some more specific steps you can try to troubleshoot issues with PyAudio installation:\n",
      "\n",
      "1. Check your Python version: Make sure that you're installing the PyAudio version that is compatible with your version of Python. For example, if you're using Python 3.9, you can try running the command `pip install pyaudio==0.2.11`.\n",
      "\n",
      "2. Check for missing dependencies: PyAudio requires the PortAudio library to be installed on your system. If you're encountering issues with PyAudio installation, it's possible that the PortAudio library is missing or not installed correctly. You can try installing PortAudio manually by following the instructions in the PortAudio documentation.\n",
      "\n",
      "3. Use a different installation method: If you're having trouble installing PyAudio using pip, you can try using a different installation method, such as Anaconda or Homebrew. For example, on Mac, you can try running the command `brew install portaudio` to install PortAudio, and then run the command `pip install pyaudio` to install PyAudio.\n",
      "\n",
      "4. Run pip with administrative privileges: If you're encountering permission errors during PyAudio installation, you can try running the pip command with administrative privileges. On Windows, you can do this by opening a Command Prompt with administrative privileges and running the pip command. On Mac or Linux, you can use the `sudo` command to run the pip command with administrative privileges.\n",
      "\n",
      "Remember, it's okay to take a break when you're feeling overwhelmed or frustrated. Taking a step back and doing something that you enjoy can help you come back to your work with a fresh perspective. Good luck with your assignment!\n"
     ]
    }
   ],
   "source": [
    "print(\"Chatbot: \")\n",
    "prev_text = \"\"\n",
    "for data in chatbot.ask(\n",
    "    \"Dude I am so stressed. This assignment is literally the worst thing that I have ever worked on. Making matters worse, we don't know fucking NLP. These idiots. Why do professors have to make class so difficult. I can't get pyaudio downloaded. Can you offer some debugging advice?\",\n",
    "):\n",
    "    message = data[\"message\"][len(prev_text) :]\n",
    "    print(message, end=\"\", flush=True)\n",
    "    prev_text = data[\"message\"]\n",
    "print()"
   ]
  },
  {
   "cell_type": "code",
   "execution_count": null,
   "metadata": {},
   "outputs": [],
   "source": []
  }
 ],
 "metadata": {
  "kernelspec": {
   "display_name": "treehacks",
   "language": "python",
   "name": "python3"
  },
  "language_info": {
   "codemirror_mode": {
    "name": "ipython",
    "version": 3
   },
   "file_extension": ".py",
   "mimetype": "text/x-python",
   "name": "python",
   "nbconvert_exporter": "python",
   "pygments_lexer": "ipython3",
   "version": "3.9.16"
  },
  "orig_nbformat": 4,
  "vscode": {
   "interpreter": {
    "hash": "54b438c93a04fac52b61aa9b1a1452c85bc92b5b728e333bac973eb890debee5"
   }
  }
 },
 "nbformat": 4,
 "nbformat_minor": 2
}
